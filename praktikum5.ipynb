{
  "nbformat": 4,
  "nbformat_minor": 0,
  "metadata": {
    "colab": {
      "provenance": [],
      "authorship_tag": "ABX9TyOzDFRDqfkay66Py/1oWncH",
      "include_colab_link": true
    },
    "kernelspec": {
      "name": "python3",
      "display_name": "Python 3"
    },
    "language_info": {
      "name": "python"
    }
  },
  "cells": [
    {
      "cell_type": "markdown",
      "metadata": {
        "id": "view-in-github",
        "colab_type": "text"
      },
      "source": [
        "<a href=\"https://colab.research.google.com/github/nadiaajeng/ddp/blob/main/praktikum5.ipynb\" target=\"_parent\"><img src=\"https://colab.research.google.com/assets/colab-badge.svg\" alt=\"Open In Colab\"/></a>"
      ]
    },
    {
      "cell_type": "code",
      "execution_count": null,
      "metadata": {
        "id": "Fchn05CU0Zcw",
        "colab": {
          "base_uri": "https://localhost:8080/"
        },
        "outputId": "cfba7d0b-4f7d-42cc-db9c-f0881c209d97"
      },
      "outputs": [
        {
          "output_type": "stream",
          "name": "stdout",
          "text": [
            "['Beat Ember', 'Motor', 200, 'Hitam', 2]\n",
            "['Beat Ember', 'Motor', 200, 'Hitam', 2, 500000, 'Metic']\n",
            "['Beat Ember', 'Motor', 'Honda', 200, 'Hitam', 2, 500000, 'Metic']\n"
          ]
        }
      ],
      "source": [
        "namakendaraan = \"Beat Ember\"\n",
        "jeniskendaraan = \"Motor\"\n",
        "cckendaraan = 200\n",
        "warnakendaraan = \"Hitam\"\n",
        "rodakendaraan = 2\n",
        "\n",
        "data_kendaraan = [namakendaraan, jeniskendaraan,\n",
        "cckendaraan, warnakendaraan, rodakendaraan]\n",
        "print(data_kendaraan)\n",
        "\n",
        "hargakendaraan = 500000\n",
        "tipekendaraan = \"Metic\"\n",
        "\n",
        "data_kendaraan.append(hargakendaraan)\n",
        "data_kendaraan.append(tipekendaraan)\n",
        "print(data_kendaraan)\n",
        "\n",
        "merkkendaraan = \"Honda\"\n",
        "data_kendaraan.insert(2, merkkendaraan)\n",
        "print(data_kendaraan)"
      ]
    },
    {
      "cell_type": "code",
      "source": [
        "pilihan = input(\"\"\"\n",
        "silahkan pilih menu yang di inginkan\n",
        "=================================\n",
        "1. Luas Persegi\n",
        "2. Luas Lingkaran\n",
        "3. Luas Segitiga\n",
        "=================================\n",
        "Kirimkan hanya angka saja,\n",
        "jawaban =\n",
        "\"\"\")\n",
        "\n",
        "match pilihan:\n",
        " case \"1\":\n",
        "  print(\"anda memilih persegi silahkan isi data dibawah\")\n",
        "  sisi = int(input(\"sisi = \"))\n",
        "  luas = sisi * sisi\n",
        "\n",
        "  print (f\" luas persegi dengan sisi {sisi} adalah {luas}\")\n",
        "  # luas persegi\n",
        " case \"2\":\n",
        "  print(\"anda memilih lingkaran silahkan isi data dibawah\")\n",
        "  jarijari = int(input(\"jari-jari = \"))\n",
        "  luas = 3.14 * jarijari **2\n",
        "\n",
        "  print(f\"luas lingkaran dengan jarijari {jarijari} adalah {luas}\")\n",
        " case \"3\":\n",
        "  print(\"Anda memilih segitiga silahkan isi data dibawah\")\n",
        "  alas = int(input(\"alas= \"))\n",
        "  tinggi = int(input(\"tinggi= \"))\n",
        "  luas = alas * tinggi / 2\n",
        "\n",
        "  print(f\"luas segitiga dengan alas {alas} dan tinggi {tinggi} adalah {luas}\")\n",
        "  # luas segitiga\n",
        " case _:\n",
        "  print(\"ya udah terserah\")"
      ],
      "metadata": {
        "id": "amBFcySGDeLF",
        "colab": {
          "base_uri": "https://localhost:8080/"
        },
        "outputId": "2d56dfe4-c2be-4de3-8d4a-2c418579dadc"
      },
      "execution_count": null,
      "outputs": [
        {
          "output_type": "stream",
          "name": "stdout",
          "text": [
            "\n",
            "silahkan pilih menu yang di inginkan\n",
            "=================================\n",
            "1. Luas Persegi\n",
            "2. Luas Lingkaran\n",
            "3. Luas Segitiga\n",
            "=================================\n",
            "Kirimkan hanya angka saja,\n",
            "jawaban =\n",
            "5\n",
            "ya udah terserah\n"
          ]
        }
      ]
    }
  ]
}